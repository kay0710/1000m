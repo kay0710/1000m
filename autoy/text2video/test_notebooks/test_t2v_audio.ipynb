{
 "cells": [
  {
   "attachments": {},
   "cell_type": "markdown",
   "metadata": {},
   "source": [
    "# Video with aodio\n",
    "\n",
    "- env (new)\n",
    "    - moviepy"
   ]
  },
  {
   "cell_type": "code",
   "execution_count": 61,
   "metadata": {},
   "outputs": [],
   "source": [
    "import math\n",
    "from moviepy.editor import VideoFileClip, AudioFileClip,\\\n",
    "                            CompositeAudioClip, concatenate_audioclips\n",
    "\n",
    "video_file = '/Users/kaylee/Desktop/ai_projects/kay/autoy/text2video/intermediate/video/Travel_EngWordsTop50_0_20230808231751.mp4'\n",
    "audio_file = '/Users/kaylee/Desktop/ai_projects/kay/autoy/text2video/intermediate/audio/word_apple20230809122203.mp3'"
   ]
  },
  {
   "cell_type": "code",
   "execution_count": 5,
   "metadata": {},
   "outputs": [
    {
     "name": "stdout",
     "output_type": "stream",
     "text": [
      "Moviepy - Building video ./output/new_a+v.mp4.\n",
      "MoviePy - Writing audio in new_a+vTEMP_MPY_wvf_snd.mp3\n"
     ]
    },
    {
     "name": "stderr",
     "output_type": "stream",
     "text": [
      "                                                                    \r"
     ]
    },
    {
     "name": "stdout",
     "output_type": "stream",
     "text": [
      "MoviePy - Done.\n",
      "Moviepy - Writing video ./output/new_a+v.mp4\n",
      "\n"
     ]
    },
    {
     "name": "stderr",
     "output_type": "stream",
     "text": [
      "                                                             \r"
     ]
    },
    {
     "name": "stdout",
     "output_type": "stream",
     "text": [
      "Moviepy - Done !\n",
      "Moviepy - video ready ./output/new_a+v.mp4\n"
     ]
    }
   ],
   "source": [
    "title = 'new_a+v'\n",
    "\n",
    "video_clip = VideoFileClip(video_file)\n",
    "audio_clip = AudioFileClip(audio_file)\n",
    "\n",
    "final_clip = video_clip.set_audio(audio_clip)\n",
    "final_clip.write_videofile('./output/' + title + '.mp4')\n",
    "\n",
    "video_clip.close()\n",
    "audio_clip.close()\n",
    "final_clip.close()"
   ]
  },
  {
   "cell_type": "code",
   "execution_count": 18,
   "metadata": {},
   "outputs": [],
   "source": [
    "word='Unforgettable'\n",
    "mute_file = './intermediate/audio/resources/0.5s.mp3'\n",
    "\n",
    "compo_list = []"
   ]
  },
  {
   "cell_type": "code",
   "execution_count": 80,
   "metadata": {},
   "outputs": [],
   "source": [
    "#TODO: word, dict는 target dict로 바꿔주고, 동시에 길이(word수)를 이용해서 for문 생성\n",
    "def concat_audio(arg_word, arg_mute_file, arg_vol=1):\n",
    "    #TODO: dict에 의한 for문 추가 예정\n",
    "    print(\"[STX] Audio editing:\", arg_word)\n",
    "    word_file = word_file = './intermediate/audio/words/' + arg_word + '_word.mp3'\n",
    "    sent_file = './intermediate/audio/words/' + arg_word + '_sent.mp3'\n",
    "    \n",
    "    word_clip = AudioFileClip(word_file)\n",
    "    sent_clip = AudioFileClip(sent_file)\n",
    "    mute_clip = AudioFileClip(arg_mute_file)\n",
    "    concat_list = [word_clip, sent_clip]\n",
    "\n",
    "    play_time = word_clip.duration + sent_clip.duration\n",
    "    print(\"Original Play time:\",math.floor(play_time*10)/10)\n",
    "    \n",
    "    if play_time < 5:\n",
    "        if play_time > 4.5:\n",
    "            concat_list.append(mute_clip) # add 0.5s\n",
    "        elif play_time > 4:\n",
    "            concat_list.append(mute_clip)  # add 1s\n",
    "            concat_list.append(mute_clip)\n",
    "        elif play_time > 3.5:\n",
    "            concat_list.append(mute_clip)  # add 1.5s\n",
    "            concat_list.append(mute_clip)\n",
    "            concat_list.append(mute_clip)\n",
    "        elif play_time > 3:\n",
    "            concat_list.append(mute_clip)  # add 2s\n",
    "            concat_list.append(mute_clip)\n",
    "            concat_list.append(mute_clip)\n",
    "            concat_list.append(mute_clip)\n",
    "    else:\n",
    "        print('[WARNING] audio is too long:', arg_word)\n",
    "\n",
    "    concat = concatenate_audioclips(concat_list)\n",
    "    concat = concat.volumex(arg_vol)\n",
    "    play_time=concat.duration\n",
    "    concat = concat.cutout(5,play_time)\n",
    "    \n",
    "    print(\"concat elements:\",len(concat_list))\n",
    "    print(\"Final play time:\", concat.duration, \"s\")\n",
    "    print(\"[ETX] Audio editing:\", arg_word)\n",
    "\n",
    "    return concat"
   ]
  },
  {
   "cell_type": "code",
   "execution_count": 81,
   "metadata": {},
   "outputs": [
    {
     "name": "stdout",
     "output_type": "stream",
     "text": [
      "[STX] Audio editing Unforgettable\n",
      "Original Play time: 4.5\n",
      "concat elements: 3\n",
      "Final play time: 5.0 s\n",
      "[ETX] Audio editing Unforgettable\n",
      "[STX] Audio editing Unforgettable\n",
      "Original Play time: 4.5\n",
      "concat elements: 3\n",
      "Final play time: 5.0 s\n",
      "[ETX] Audio editing Unforgettable\n",
      "[STX] Audio editing Unforgettable\n",
      "Original Play time: 4.5\n",
      "concat elements: 3\n",
      "Final play time: 5.0 s\n",
      "[ETX] Audio editing Unforgettable\n"
     ]
    }
   ],
   "source": [
    "a=concat_audio(word, mute_file, arg_vol=1)\n",
    "b=concat_audio(word, mute_file, arg_vol=1)\n",
    "c=concat_audio(word, mute_file, arg_vol=1)\n",
    "compo_list=[a,b,c]"
   ]
  },
  {
   "attachments": {},
   "cell_type": "markdown",
   "metadata": {},
   "source": [
    "시간을 겹치게 설정하면 이중으로 사운드가 나옴  \n",
    "-> 다른 방법 필요!!"
   ]
  },
  {
   "cell_type": "code",
   "execution_count": 82,
   "metadata": {},
   "outputs": [
    {
     "data": {
      "text/plain": [
       "15.0"
      ]
     },
     "execution_count": 82,
     "metadata": {},
     "output_type": "execute_result"
    }
   ],
   "source": [
    "compo = CompositeAudioClip([compo_list[0], compo_list[1].set_start(5), compo_list[2].set_start(10)])\n",
    "compo.duration"
   ]
  },
  {
   "cell_type": "code",
   "execution_count": 83,
   "metadata": {},
   "outputs": [
    {
     "name": "stdout",
     "output_type": "stream",
     "text": [
      "Moviepy - Building video ./output/test_a+v.mp4.\n",
      "MoviePy - Writing audio in test_a+vTEMP_MPY_wvf_snd.mp3\n"
     ]
    },
    {
     "name": "stderr",
     "output_type": "stream",
     "text": [
      "                                                                    \r"
     ]
    },
    {
     "name": "stdout",
     "output_type": "stream",
     "text": [
      "MoviePy - Done.\n",
      "Moviepy - Writing video ./output/test_a+v.mp4\n",
      "\n"
     ]
    },
    {
     "name": "stderr",
     "output_type": "stream",
     "text": [
      "                                                             \r"
     ]
    },
    {
     "name": "stdout",
     "output_type": "stream",
     "text": [
      "Moviepy - Done !\n",
      "Moviepy - video ready ./output/test_a+v.mp4\n"
     ]
    }
   ],
   "source": [
    "title_test = 'test_a+v'\n",
    "\n",
    "test_video_clip = VideoFileClip(video_file)\n",
    "\n",
    "test_final_clip = test_video_clip.set_audio(compo)\n",
    "test_final_clip.write_videofile('./output/' + title_test + '.mp4')\n",
    "\n",
    "test_video_clip.close()\n",
    "test_final_clip.close()"
   ]
  },
  {
   "cell_type": "code",
   "execution_count": null,
   "metadata": {},
   "outputs": [],
   "source": []
  }
 ],
 "metadata": {
  "kernelspec": {
   "display_name": "autoy",
   "language": "python",
   "name": "python3"
  },
  "language_info": {
   "codemirror_mode": {
    "name": "ipython",
    "version": 3
   },
   "file_extension": ".py",
   "mimetype": "text/x-python",
   "name": "python",
   "nbconvert_exporter": "python",
   "pygments_lexer": "ipython3",
   "version": "3.10.12"
  },
  "orig_nbformat": 4
 },
 "nbformat": 4,
 "nbformat_minor": 2
}
