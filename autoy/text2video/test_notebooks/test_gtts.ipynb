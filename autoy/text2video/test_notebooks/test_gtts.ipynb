{
 "cells": [
  {
   "attachments": {},
   "cell_type": "markdown",
   "metadata": {},
   "source": [
    "# gTTS test\n",
    "\n",
    "- env (new)\n",
    "    - gTTS"
   ]
  },
  {
   "cell_type": "code",
   "execution_count": 12,
   "metadata": {},
   "outputs": [],
   "source": [
    "from gtts import gTTS"
   ]
  },
  {
   "cell_type": "code",
   "execution_count": 13,
   "metadata": {},
   "outputs": [],
   "source": [
    "word='Unforgettable'\n",
    "sent='The view from the mountaintop was unforgettable.'"
   ]
  },
  {
   "cell_type": "code",
   "execution_count": 14,
   "metadata": {},
   "outputs": [],
   "source": [
    "def tts2mp3(arg_word, arg_sentence, auto_concat=False):\n",
    "\n",
    "    word_file = './../text2video/intermediate/audio/words/' + arg_word + '_word.mp3'\n",
    "    tts_word = gTTS(text=arg_word, lang='en')\n",
    "    tts_word.save(word_file)\n",
    "    print('[SAVED] audio file:', word_file)\n",
    "\n",
    "    sent_file = './../text2video/intermediate/audio/words/' + arg_word + '_sent.mp3'\n",
    "    tts_sentence = gTTS(text=arg_sentence, lang='en')\n",
    "    tts_sentence.save(sent_file)\n",
    "    print('[SAVED] audio file:', sent_file)\n",
    "\n",
    "    if auto_concat == True:\n",
    "        tts_file_name = './../text2video/intermediate/audio/words/' + arg_word + '_concat.mp3'\n",
    "        f = open(file=tts_file_name, mode='wb')\n",
    "        tts_word.write_to_fp(f)\n",
    "        tts_sentence.write_to_fp(f)\n",
    "        f.close()\n",
    "        print('[SAVED] audio file:', tts_file_name)"
   ]
  },
  {
   "cell_type": "code",
   "execution_count": 15,
   "metadata": {},
   "outputs": [],
   "source": [
    "tts2mp3(word, sent)"
   ]
  },
  {
   "cell_type": "code",
   "execution_count": 18,
   "metadata": {},
   "outputs": [
    {
     "data": {
      "text/plain": [
       "'N'"
      ]
     },
     "execution_count": 18,
     "metadata": {},
     "output_type": "execute_result"
    }
   ],
   "source": [
    "a=input(\"hi:\")\n",
    "a=='n'"
   ]
  },
  {
   "cell_type": "code",
   "execution_count": null,
   "metadata": {},
   "outputs": [],
   "source": []
  }
 ],
 "metadata": {
  "kernelspec": {
   "display_name": "autoy",
   "language": "python",
   "name": "python3"
  },
  "language_info": {
   "codemirror_mode": {
    "name": "ipython",
    "version": 3
   },
   "file_extension": ".py",
   "mimetype": "text/x-python",
   "name": "python",
   "nbconvert_exporter": "python",
   "pygments_lexer": "ipython3",
   "version": "3.10.12"
  },
  "orig_nbformat": 4
 },
 "nbformat": 4,
 "nbformat_minor": 2
}
