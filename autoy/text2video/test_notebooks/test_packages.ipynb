{
 "cells": [
  {
   "attachments": {},
   "cell_type": "markdown",
   "metadata": {},
   "source": [
    "# helpers package test"
   ]
  },
  {
   "attachments": {},
   "cell_type": "markdown",
   "metadata": {},
   "source": [
    "## TTS moduel test"
   ]
  },
  {
   "cell_type": "code",
   "execution_count": 1,
   "metadata": {},
   "outputs": [],
   "source": [
    "from helpers import tts"
   ]
  },
  {
   "cell_type": "code",
   "execution_count": 2,
   "metadata": {},
   "outputs": [
    {
     "name": "stdout",
     "output_type": "stream",
     "text": [
      "[SAVED] Audio file(concat): /Users/kaylee/Desktop/ai_projects/kay/autoy/text2video/intermediate/audio/words/Travel_EngWordsTop50/Accommodation_concat.mp3\n",
      "[SAVED] Audio file(concat): /Users/kaylee/Desktop/ai_projects/kay/autoy/text2video/intermediate/audio/words/Travel_EngWordsTop50/Adventure_concat.mp3\n",
      "[SAVED] Audio file(concat): /Users/kaylee/Desktop/ai_projects/kay/autoy/text2video/intermediate/audio/words/Travel_EngWordsTop50/Beach_concat.mp3\n",
      "[SAVED] Audio file(concat): /Users/kaylee/Desktop/ai_projects/kay/autoy/text2video/intermediate/audio/words/Travel_EngWordsTop50/Currency_concat.mp3\n",
      "[SAVED] Audio file(concat): /Users/kaylee/Desktop/ai_projects/kay/autoy/text2video/intermediate/audio/words/Travel_EngWordsTop50/Directions_concat.mp3\n",
      "[SAVED] Audio file(concat): /Users/kaylee/Desktop/ai_projects/kay/autoy/text2video/intermediate/audio/words/Travel_EngWordsTop50/Explore_concat.mp3\n",
      "[SAVED] Audio file(concat): /Users/kaylee/Desktop/ai_projects/kay/autoy/text2video/intermediate/audio/words/Travel_EngWordsTop50/Foodie_concat.mp3\n",
      "[SAVED] Audio file(concat): /Users/kaylee/Desktop/ai_projects/kay/autoy/text2video/intermediate/audio/words/Travel_EngWordsTop50/Guide_concat.mp3\n",
      "[SAVED] Audio file(concat): /Users/kaylee/Desktop/ai_projects/kay/autoy/text2video/intermediate/audio/words/Travel_EngWordsTop50/Hospitality_concat.mp3\n",
      "[SAVED] Audio file(concat): /Users/kaylee/Desktop/ai_projects/kay/autoy/text2video/intermediate/audio/words/Travel_EngWordsTop50/Itinerary_concat.mp3\n",
      "[SAVED] Audio file(concat): /Users/kaylee/Desktop/ai_projects/kay/autoy/text2video/intermediate/audio/words/Travel_EngWordsTop50/Knowledgeable_concat.mp3\n",
      "[SAVED] Audio file(concat): /Users/kaylee/Desktop/ai_projects/kay/autoy/text2video/intermediate/audio/words/Travel_EngWordsTop50/Landmark_concat.mp3\n",
      "[SAVED] Audio file(concat): /Users/kaylee/Desktop/ai_projects/kay/autoy/text2video/intermediate/audio/words/Travel_EngWordsTop50/Map_concat.mp3\n",
      "[SAVED] Audio file(concat): /Users/kaylee/Desktop/ai_projects/kay/autoy/text2video/intermediate/audio/words/Travel_EngWordsTop50/Navigate_concat.mp3\n",
      "[SAVED] Audio file(concat): /Users/kaylee/Desktop/ai_projects/kay/autoy/text2video/intermediate/audio/words/Travel_EngWordsTop50/Overseas_concat.mp3\n",
      "[SAVED] Audio file(concat): /Users/kaylee/Desktop/ai_projects/kay/autoy/text2video/intermediate/audio/words/Travel_EngWordsTop50/Quaint_concat.mp3\n",
      "[SAVED] Audio file(concat): /Users/kaylee/Desktop/ai_projects/kay/autoy/text2video/intermediate/audio/words/Travel_EngWordsTop50/Resort_concat.mp3\n",
      "[SAVED] Audio file(concat): /Users/kaylee/Desktop/ai_projects/kay/autoy/text2video/intermediate/audio/words/Travel_EngWordsTop50/Sightseeing_concat.mp3\n",
      "[SAVED] Audio file(concat): /Users/kaylee/Desktop/ai_projects/kay/autoy/text2video/intermediate/audio/words/Travel_EngWordsTop50/Tourist_concat.mp3\n",
      "[SAVED] Audio file(concat): /Users/kaylee/Desktop/ai_projects/kay/autoy/text2video/intermediate/audio/words/Travel_EngWordsTop50/Unforgettable_concat.mp3\n",
      "[SAVED] Audio file(concat): /Users/kaylee/Desktop/ai_projects/kay/autoy/text2video/intermediate/audio/words/Travel_EngWordsTop50/Vacation_concat.mp3\n",
      "[SAVED] Audio file(concat): /Users/kaylee/Desktop/ai_projects/kay/autoy/text2video/intermediate/audio/words/Travel_EngWordsTop50/Wanderlust_concat.mp3\n",
      "[SAVED] Audio file(concat): /Users/kaylee/Desktop/ai_projects/kay/autoy/text2video/intermediate/audio/words/Travel_EngWordsTop50/Xenophile_concat.mp3\n",
      "[SAVED] Audio file(concat): /Users/kaylee/Desktop/ai_projects/kay/autoy/text2video/intermediate/audio/words/Travel_EngWordsTop50/Yacht_concat.mp3\n",
      "[SAVED] Audio file(concat): /Users/kaylee/Desktop/ai_projects/kay/autoy/text2video/intermediate/audio/words/Travel_EngWordsTop50/Zen_concat.mp3\n",
      "[SAVED] Audio file(concat): /Users/kaylee/Desktop/ai_projects/kay/autoy/text2video/intermediate/audio/words/Travel_EngWordsTop50/Backpack_concat.mp3\n",
      "[SAVED] Audio file(concat): /Users/kaylee/Desktop/ai_projects/kay/autoy/text2video/intermediate/audio/words/Travel_EngWordsTop50/Culture_concat.mp3\n",
      "[SAVED] Audio file(concat): /Users/kaylee/Desktop/ai_projects/kay/autoy/text2video/intermediate/audio/words/Travel_EngWordsTop50/Discovery_concat.mp3\n",
      "[SAVED] Audio file(concat): /Users/kaylee/Desktop/ai_projects/kay/autoy/text2video/intermediate/audio/words/Travel_EngWordsTop50/Exploration_concat.mp3\n",
      "[SAVED] Audio file(concat): /Users/kaylee/Desktop/ai_projects/kay/autoy/text2video/intermediate/audio/words/Travel_EngWordsTop50/Festival_concat.mp3\n",
      "[SAVED] Audio file(concat): /Users/kaylee/Desktop/ai_projects/kay/autoy/text2video/intermediate/audio/words/Travel_EngWordsTop50/Guidebook_concat.mp3\n",
      "[SAVED] Audio file(concat): /Users/kaylee/Desktop/ai_projects/kay/autoy/text2video/intermediate/audio/words/Travel_EngWordsTop50/Heritage_concat.mp3\n",
      "[SAVED] Audio file(concat): /Users/kaylee/Desktop/ai_projects/kay/autoy/text2video/intermediate/audio/words/Travel_EngWordsTop50/Island_concat.mp3\n",
      "[SAVED] Audio file(concat): /Users/kaylee/Desktop/ai_projects/kay/autoy/text2video/intermediate/audio/words/Travel_EngWordsTop50/Journey_concat.mp3\n",
      "[SAVED] Audio file(concat): /Users/kaylee/Desktop/ai_projects/kay/autoy/text2video/intermediate/audio/words/Travel_EngWordsTop50/Kiosk_concat.mp3\n",
      "[SAVED] Audio file(concat): /Users/kaylee/Desktop/ai_projects/kay/autoy/text2video/intermediate/audio/words/Travel_EngWordsTop50/Local_concat.mp3\n",
      "[SAVED] Audio file(concat): /Users/kaylee/Desktop/ai_projects/kay/autoy/text2video/intermediate/audio/words/Travel_EngWordsTop50/Museum_concat.mp3\n",
      "[SAVED] Audio file(concat): /Users/kaylee/Desktop/ai_projects/kay/autoy/text2video/intermediate/audio/words/Travel_EngWordsTop50/Nature_concat.mp3\n",
      "[SAVED] Audio file(concat): /Users/kaylee/Desktop/ai_projects/kay/autoy/text2video/intermediate/audio/words/Travel_EngWordsTop50/Opportunity_concat.mp3\n",
      "[SAVED] Audio file(concat): /Users/kaylee/Desktop/ai_projects/kay/autoy/text2video/intermediate/audio/words/Travel_EngWordsTop50/Passport_concat.mp3\n",
      "[SAVED] Audio file(concat): /Users/kaylee/Desktop/ai_projects/kay/autoy/text2video/intermediate/audio/words/Travel_EngWordsTop50/Relaxation_concat.mp3\n",
      "[SAVED] Audio file(concat): /Users/kaylee/Desktop/ai_projects/kay/autoy/text2video/intermediate/audio/words/Travel_EngWordsTop50/Souvenir_concat.mp3\n",
      "[SAVED] Audio file(concat): /Users/kaylee/Desktop/ai_projects/kay/autoy/text2video/intermediate/audio/words/Travel_EngWordsTop50/Tour_concat.mp3\n",
      "[SAVED] Audio file(concat): /Users/kaylee/Desktop/ai_projects/kay/autoy/text2video/intermediate/audio/words/Travel_EngWordsTop50/Urban_concat.mp3\n",
      "[SAVED] Audio file(concat): /Users/kaylee/Desktop/ai_projects/kay/autoy/text2video/intermediate/audio/words/Travel_EngWordsTop50/Voyage_concat.mp3\n",
      "[SAVED] Audio file(concat): /Users/kaylee/Desktop/ai_projects/kay/autoy/text2video/intermediate/audio/words/Travel_EngWordsTop50/Wander_concat.mp3\n",
      "[SAVED] Audio file(concat): /Users/kaylee/Desktop/ai_projects/kay/autoy/text2video/intermediate/audio/words/Travel_EngWordsTop50/Zenith_concat.mp3\n",
      "[COMPLETE] Evry audio file is ready.\n"
     ]
    }
   ],
   "source": [
    "tts.tts2mp3()"
   ]
  },
  {
   "attachments": {},
   "cell_type": "markdown",
   "metadata": {},
   "source": [
    "## t2v module test"
   ]
  },
  {
   "cell_type": "code",
   "execution_count": 2,
   "metadata": {},
   "outputs": [],
   "source": [
    "from helpers.t2v import T2V"
   ]
  },
  {
   "cell_type": "code",
   "execution_count": 3,
   "metadata": {},
   "outputs": [
    {
     "name": "stdout",
     "output_type": "stream",
     "text": [
      "\n",
      "[START] Making frame\n",
      "[SETTING] Bacground of video will be set randomly: True 5\n",
      "[Pregress] Frame: 5 / 10\n",
      "[Pregress] Frame: 10 / 10\n",
      "total frames: 10\n",
      "[Progress] Video: 1 / 5\n",
      "[END] Video is created: /Users/kaylee/Desktop/ai_projects/kay/autoy/text2video/intermediate/video/Travel_EngWordsTop50/0.mp4\n",
      "\n",
      "\n",
      "[START] Making frame\n",
      "[SETTING] Bacground of video will be set randomly: True 4\n"
     ]
    },
    {
     "name": "stderr",
     "output_type": "stream",
     "text": [
      "OpenCV: FFMPEG: tag 0x5634504d/'MP4V' is not supported with codec id 12 and format 'mp4 / MP4 (MPEG-4 Part 14)'\n",
      "OpenCV: FFMPEG: fallback to use tag 0x7634706d/'mp4v'\n"
     ]
    },
    {
     "name": "stdout",
     "output_type": "stream",
     "text": [
      "[Pregress] Frame: 5 / 10\n",
      "[Pregress] Frame: 10 / 10\n",
      "total frames: 10\n",
      "[Progress] Video: 2 / 5\n"
     ]
    },
    {
     "name": "stderr",
     "output_type": "stream",
     "text": [
      "OpenCV: FFMPEG: tag 0x5634504d/'MP4V' is not supported with codec id 12 and format 'mp4 / MP4 (MPEG-4 Part 14)'\n",
      "OpenCV: FFMPEG: fallback to use tag 0x7634706d/'mp4v'\n"
     ]
    },
    {
     "name": "stdout",
     "output_type": "stream",
     "text": [
      "[END] Video is created: /Users/kaylee/Desktop/ai_projects/kay/autoy/text2video/intermediate/video/Travel_EngWordsTop50/1.mp4\n",
      "\n",
      "\n",
      "[START] Making frame\n",
      "[SETTING] Bacground of video will be set randomly: True 3\n",
      "[Pregress] Frame: 5 / 10\n",
      "[Pregress] Frame: 10 / 10\n",
      "total frames: 10\n",
      "[Progress] Video: 3 / 5\n",
      "[END] Video is created: /Users/kaylee/Desktop/ai_projects/kay/autoy/text2video/intermediate/video/Travel_EngWordsTop50/2.mp4\n",
      "\n",
      "\n",
      "[START] Making frame\n",
      "[SETTING] Bacground of video will be set randomly: True 1\n"
     ]
    },
    {
     "name": "stderr",
     "output_type": "stream",
     "text": [
      "OpenCV: FFMPEG: tag 0x5634504d/'MP4V' is not supported with codec id 12 and format 'mp4 / MP4 (MPEG-4 Part 14)'\n",
      "OpenCV: FFMPEG: fallback to use tag 0x7634706d/'mp4v'\n"
     ]
    },
    {
     "name": "stdout",
     "output_type": "stream",
     "text": [
      "[Pregress] Frame: 5 / 10\n",
      "[Pregress] Frame: 10 / 10\n",
      "total frames: 10\n",
      "[Progress] Video: 4 / 5\n"
     ]
    },
    {
     "name": "stderr",
     "output_type": "stream",
     "text": [
      "OpenCV: FFMPEG: tag 0x5634504d/'MP4V' is not supported with codec id 12 and format 'mp4 / MP4 (MPEG-4 Part 14)'\n",
      "OpenCV: FFMPEG: fallback to use tag 0x7634706d/'mp4v'\n"
     ]
    },
    {
     "name": "stdout",
     "output_type": "stream",
     "text": [
      "[END] Video is created: /Users/kaylee/Desktop/ai_projects/kay/autoy/text2video/intermediate/video/Travel_EngWordsTop50/3.mp4\n",
      "\n",
      "\n",
      "[START] Making frame\n",
      "[SETTING] Bacground of video will be set randomly: True 1\n",
      "[Pregress] Frame: 5 / 7\n",
      "[Pregress] Frame: 7 / 7\n",
      "total frames: 7\n",
      "[Progress] Video: 5 / 5\n",
      "[END] Video is created: /Users/kaylee/Desktop/ai_projects/kay/autoy/text2video/intermediate/video/Travel_EngWordsTop50/4.mp4\n",
      "\n",
      "============================\n",
      "[COMPLETE] Every video is ready\n",
      "\n",
      "\n"
     ]
    },
    {
     "name": "stderr",
     "output_type": "stream",
     "text": [
      "OpenCV: FFMPEG: tag 0x5634504d/'MP4V' is not supported with codec id 12 and format 'mp4 / MP4 (MPEG-4 Part 14)'\n",
      "OpenCV: FFMPEG: fallback to use tag 0x7634706d/'mp4v'\n"
     ]
    }
   ],
   "source": [
    "T2V.make_inter_video()"
   ]
  },
  {
   "cell_type": "code",
   "execution_count": 4,
   "metadata": {},
   "outputs": [
    {
     "name": "stdout",
     "output_type": "stream",
     "text": [
      "[SET] Resolution 세팅: yshorts_1500\n",
      "[SET] Height: 1500\n",
      "[SET] Width: 843\n",
      "[SET] Defalut font: /Users/kaylee/Desktop/ai_projects/kay/autoy/text2video/resources/fonts/나눔 글꼴/나눔고딕/NanumFontSetup_TTF_GOTHIC/NanumGothic.ttf 30\n",
      "[SET] Word Font: /Users/kaylee/Desktop/ai_projects/kay/autoy/text2video/resources/fonts/마루 부리/MaruBuriTTF/MaruBuri-Bold.ttf 70\n",
      "\n",
      "[START] Making frame\n",
      "\n",
      "Bacground of video will be set randomly: True 1\n",
      "[Pregress] Frame: 5 / 10\n",
      "[Pregress] Frame: 10 / 10\n",
      "total frames: 10\n",
      "[Progress] Video: 1 / 5\n",
      "[END] Video is created: /Users/kaylee/Desktop/ai_projects/kay/autoy/text2video/intermediate/video/Travel_EngWordsTop50/0.mp4\n",
      "\n",
      "\n",
      "[START] Making frame\n",
      "\n",
      "Bacground of video will be set randomly: True 5\n"
     ]
    },
    {
     "name": "stderr",
     "output_type": "stream",
     "text": [
      "OpenCV: FFMPEG: tag 0x5634504d/'MP4V' is not supported with codec id 12 and format 'mp4 / MP4 (MPEG-4 Part 14)'\n",
      "OpenCV: FFMPEG: fallback to use tag 0x7634706d/'mp4v'\n"
     ]
    },
    {
     "name": "stdout",
     "output_type": "stream",
     "text": [
      "[Pregress] Frame: 5 / 10\n",
      "[Pregress] Frame: 10 / 10\n",
      "total frames: 10\n",
      "[Progress] Video: 2 / 5\n",
      "[END] Video is created: /Users/kaylee/Desktop/ai_projects/kay/autoy/text2video/intermediate/video/Travel_EngWordsTop50/1.mp4\n",
      "\n",
      "\n",
      "[START] Making frame\n",
      "\n",
      "Bacground of video will be set randomly: True 1\n"
     ]
    },
    {
     "name": "stderr",
     "output_type": "stream",
     "text": [
      "OpenCV: FFMPEG: tag 0x5634504d/'MP4V' is not supported with codec id 12 and format 'mp4 / MP4 (MPEG-4 Part 14)'\n",
      "OpenCV: FFMPEG: fallback to use tag 0x7634706d/'mp4v'\n"
     ]
    },
    {
     "name": "stdout",
     "output_type": "stream",
     "text": [
      "[Pregress] Frame: 5 / 10\n",
      "[Pregress] Frame: 10 / 10\n",
      "total frames: 10\n",
      "[Progress] Video: 3 / 5\n",
      "[END] Video is created: /Users/kaylee/Desktop/ai_projects/kay/autoy/text2video/intermediate/video/Travel_EngWordsTop50/2.mp4\n",
      "\n",
      "\n",
      "[START] Making frame\n",
      "\n",
      "Bacground of video will be set randomly: True 5\n"
     ]
    },
    {
     "name": "stderr",
     "output_type": "stream",
     "text": [
      "OpenCV: FFMPEG: tag 0x5634504d/'MP4V' is not supported with codec id 12 and format 'mp4 / MP4 (MPEG-4 Part 14)'\n",
      "OpenCV: FFMPEG: fallback to use tag 0x7634706d/'mp4v'\n"
     ]
    },
    {
     "name": "stdout",
     "output_type": "stream",
     "text": [
      "[Pregress] Frame: 5 / 10\n",
      "[Pregress] Frame: 10 / 10\n",
      "total frames: 10\n",
      "[Progress] Video: 4 / 5\n",
      "[END] Video is created: /Users/kaylee/Desktop/ai_projects/kay/autoy/text2video/intermediate/video/Travel_EngWordsTop50/3.mp4\n",
      "\n",
      "\n",
      "[START] Making frame\n",
      "\n",
      "Bacground of video will be set randomly: True 4\n"
     ]
    },
    {
     "name": "stderr",
     "output_type": "stream",
     "text": [
      "OpenCV: FFMPEG: tag 0x5634504d/'MP4V' is not supported with codec id 12 and format 'mp4 / MP4 (MPEG-4 Part 14)'\n",
      "OpenCV: FFMPEG: fallback to use tag 0x7634706d/'mp4v'\n"
     ]
    },
    {
     "name": "stdout",
     "output_type": "stream",
     "text": [
      "[Pregress] Frame: 5 / 7\n",
      "[Pregress] Frame: 7 / 7\n",
      "total frames: 7\n",
      "[Progress] Video: 5 / 5\n",
      "[END] Video is created: /Users/kaylee/Desktop/ai_projects/kay/autoy/text2video/intermediate/video/Travel_EngWordsTop50/4.mp4\n",
      "\n",
      "============================\n",
      "[COMPLETE] Every video is ready\n",
      "\n",
      "\n"
     ]
    },
    {
     "name": "stderr",
     "output_type": "stream",
     "text": [
      "OpenCV: FFMPEG: tag 0x5634504d/'MP4V' is not supported with codec id 12 and format 'mp4 / MP4 (MPEG-4 Part 14)'\n",
      "OpenCV: FFMPEG: fallback to use tag 0x7634706d/'mp4v'\n"
     ]
    }
   ],
   "source": [
    "# t2v = t2v()\n",
    "# t2v.make_inter_video()"
   ]
  },
  {
   "attachments": {},
   "cell_type": "markdown",
   "metadata": {},
   "source": [
    "## composer moduel test"
   ]
  },
  {
   "cell_type": "code",
   "execution_count": 1,
   "metadata": {},
   "outputs": [],
   "source": [
    "from helpers import composer"
   ]
  },
  {
   "cell_type": "code",
   "execution_count": 2,
   "metadata": {},
   "outputs": [
    {
     "name": "stdout",
     "output_type": "stream",
     "text": [
      "\n",
      "[START] Audio editing: Accommodation\n",
      "[CHECK] Original Play time: 4.4\n",
      "[Pregress] Concat elements: 1\n",
      "[CHECK] Final play time: 4.44 s\n",
      "[END] Audio editing: Accommodation\n",
      "\n",
      "[START] Audio editing: Adventure\n",
      "[CHECK] Original Play time: 4.8\n",
      "[Pregress] Concat elements: 1\n",
      "[CHECK] Final play time: 4.8 s\n",
      "[END] Audio editing: Adventure\n",
      "\n",
      "[START] Audio editing: Beach\n",
      "[CHECK] Original Play time: 4.5\n",
      "[Pregress] Concat elements: 1\n",
      "[CHECK] Final play time: 4.51 s\n",
      "[END] Audio editing: Beach\n",
      "\n",
      "[START] Audio editing: Currency\n",
      "[CHECK] Original Play time: 4.7\n",
      "[Pregress] Concat elements: 1\n",
      "[CHECK] Final play time: 4.73 s\n",
      "[END] Audio editing: Currency\n",
      "\n",
      "[START] Audio editing: Directions\n",
      "[CHECK] Original Play time: 4.6\n",
      "[Pregress] Concat elements: 1\n",
      "[CHECK] Final play time: 4.68 s\n",
      "[END] Audio editing: Directions\n",
      "\n",
      "[START] Audio editing: Explore\n",
      "[CHECK] Original Play time: 4.6\n",
      "[Pregress] Concat elements: 1\n",
      "[CHECK] Final play time: 4.68 s\n",
      "[END] Audio editing: Explore\n",
      "\n",
      "[START] Audio editing: Foodie\n",
      "[CHECK] Original Play time: 4.9\n",
      "[Pregress] Concat elements: 1\n",
      "[CHECK] Final play time: 4.9 s\n",
      "[END] Audio editing: Foodie\n",
      "\n",
      "[START] Audio editing: Guide\n",
      "[CHECK] Original Play time: 4.3\n",
      "[Pregress] Concat elements: 1\n",
      "[CHECK] Final play time: 4.3 s\n",
      "[END] Audio editing: Guide\n",
      "\n",
      "[START] Audio editing: Hospitality\n",
      "[CHECK] Original Play time: 5.0\n",
      "[WARNING] Audio length(long): Hospitality\n",
      "[Pregress] Concat elements: 1\n",
      "[CHECK] Final play time: 5.02 s\n",
      "[END] Audio editing: Hospitality\n",
      "\n",
      "[START] Audio editing: Itinerary\n",
      "[CHECK] Original Play time: 4.6\n",
      "[Pregress] Concat elements: 1\n",
      "[CHECK] Final play time: 4.66 s\n",
      "[END] Audio editing: Itinerary\n",
      "\n",
      "[START] Audio editing: Knowledgeable\n",
      "[CHECK] Original Play time: 4.4\n",
      "[Pregress] Concat elements: 1\n",
      "[CHECK] Final play time: 4.46 s\n",
      "[END] Audio editing: Knowledgeable\n",
      "\n",
      "[START] Audio editing: Landmark\n",
      "[CHECK] Original Play time: 4.9\n",
      "[Pregress] Concat elements: 1\n",
      "[CHECK] Final play time: 4.92 s\n",
      "[END] Audio editing: Landmark\n",
      "\n",
      "[START] Audio editing: Map\n",
      "[CHECK] Original Play time: 4.0\n",
      "[Pregress] Concat elements: 1\n",
      "[CHECK] Final play time: 4.01 s\n",
      "[END] Audio editing: Map\n",
      "\n",
      "[START] Audio editing: Navigate\n",
      "[CHECK] Original Play time: 4.6\n",
      "[Pregress] Concat elements: 1\n",
      "[CHECK] Final play time: 4.68 s\n",
      "[END] Audio editing: Navigate\n",
      "\n",
      "[START] Audio editing: Overseas\n",
      "[CHECK] Original Play time: 4.5\n",
      "[Pregress] Concat elements: 1\n",
      "[CHECK] Final play time: 4.56 s\n",
      "[END] Audio editing: Overseas\n",
      "\n",
      "[START] Audio editing: Quaint\n",
      "[CHECK] Original Play time: 4.7\n",
      "[Pregress] Concat elements: 1\n",
      "[CHECK] Final play time: 4.73 s\n",
      "[END] Audio editing: Quaint\n",
      "\n",
      "[START] Audio editing: Resort\n",
      "[CHECK] Original Play time: 4.2\n",
      "[Pregress] Concat elements: 1\n",
      "[CHECK] Final play time: 4.2 s\n",
      "[END] Audio editing: Resort\n",
      "\n",
      "[START] Audio editing: Sightseeing\n",
      "[CHECK] Original Play time: 4.5\n",
      "[Pregress] Concat elements: 1\n",
      "[CHECK] Final play time: 4.58 s\n",
      "[END] Audio editing: Sightseeing\n",
      "\n",
      "[START] Audio editing: Tourist\n",
      "[CHECK] Original Play time: 4.4\n",
      "[Pregress] Concat elements: 1\n",
      "[CHECK] Final play time: 4.49 s\n",
      "[END] Audio editing: Tourist\n",
      "\n",
      "[START] Audio editing: Unforgettable\n",
      "[CHECK] Original Play time: 4.4\n",
      "[Pregress] Concat elements: 1\n",
      "[CHECK] Final play time: 4.49 s\n",
      "[END] Audio editing: Unforgettable\n",
      "\n",
      "[START] Audio editing: Vacation\n",
      "[CHECK] Original Play time: 4.5\n",
      "[Pregress] Concat elements: 1\n",
      "[CHECK] Final play time: 4.54 s\n",
      "[END] Audio editing: Vacation\n",
      "\n",
      "[START] Audio editing: Wanderlust\n",
      "[CHECK] Original Play time: 4.9\n",
      "[Pregress] Concat elements: 1\n",
      "[CHECK] Final play time: 4.92 s\n",
      "[END] Audio editing: Wanderlust\n",
      "\n",
      "[START] Audio editing: Xenophile\n",
      "[CHECK] Original Play time: 4.7\n",
      "[Pregress] Concat elements: 1\n",
      "[CHECK] Final play time: 4.75 s\n",
      "[END] Audio editing: Xenophile\n",
      "\n",
      "[START] Audio editing: Yacht\n",
      "[CHECK] Original Play time: 4.4\n",
      "[Pregress] Concat elements: 1\n",
      "[CHECK] Final play time: 4.44 s\n",
      "[END] Audio editing: Yacht\n",
      "\n",
      "[START] Audio editing: Zen\n",
      "[CHECK] Original Play time: 4.1\n",
      "[Pregress] Concat elements: 1\n",
      "[CHECK] Final play time: 4.18 s\n",
      "[END] Audio editing: Zen\n",
      "\n",
      "[START] Audio editing: Backpack\n",
      "[CHECK] Original Play time: 4.6\n",
      "[Pregress] Concat elements: 1\n",
      "[CHECK] Final play time: 4.61 s\n",
      "[END] Audio editing: Backpack\n",
      "\n",
      "[START] Audio editing: Culture\n",
      "[CHECK] Original Play time: 4.7\n",
      "[Pregress] Concat elements: 1\n",
      "[CHECK] Final play time: 4.7 s\n",
      "[END] Audio editing: Culture\n",
      "\n",
      "[START] Audio editing: Discovery\n",
      "[CHECK] Original Play time: 4.4\n",
      "[Pregress] Concat elements: 1\n",
      "[CHECK] Final play time: 4.46 s\n",
      "[END] Audio editing: Discovery\n",
      "\n",
      "[START] Audio editing: Exploration\n",
      "[CHECK] Original Play time: 4.8\n",
      "[Pregress] Concat elements: 1\n",
      "[CHECK] Final play time: 4.85 s\n",
      "[END] Audio editing: Exploration\n",
      "\n",
      "[START] Audio editing: Festival\n",
      "[CHECK] Original Play time: 4.1\n",
      "[Pregress] Concat elements: 1\n",
      "[CHECK] Final play time: 4.18 s\n",
      "[END] Audio editing: Festival\n",
      "\n",
      "[START] Audio editing: Guidebook\n",
      "[CHECK] Original Play time: 4.8\n",
      "[Pregress] Concat elements: 1\n",
      "[CHECK] Final play time: 4.82 s\n",
      "[END] Audio editing: Guidebook\n",
      "\n",
      "[START] Audio editing: Heritage\n",
      "[CHECK] Original Play time: 4.2\n",
      "[Pregress] Concat elements: 1\n",
      "[CHECK] Final play time: 4.25 s\n",
      "[END] Audio editing: Heritage\n",
      "\n",
      "[START] Audio editing: Island\n",
      "[CHECK] Original Play time: 4.1\n",
      "[Pregress] Concat elements: 1\n",
      "[CHECK] Final play time: 4.13 s\n",
      "[END] Audio editing: Island\n",
      "\n",
      "[START] Audio editing: Journey\n",
      "[CHECK] Original Play time: 4.2\n",
      "[Pregress] Concat elements: 1\n",
      "[CHECK] Final play time: 4.2 s\n",
      "[END] Audio editing: Journey\n",
      "\n",
      "[START] Audio editing: Kiosk\n",
      "[CHECK] Original Play time: 4.0\n",
      "[Pregress] Concat elements: 1\n",
      "[CHECK] Final play time: 4.03 s\n",
      "[END] Audio editing: Kiosk\n",
      "\n",
      "[START] Audio editing: Local\n",
      "[CHECK] Original Play time: 3.7\n",
      "[Pregress] Concat elements: 1\n",
      "[CHECK] Final play time: 3.77 s\n",
      "[END] Audio editing: Local\n",
      "\n",
      "[START] Audio editing: Museum\n",
      "[CHECK] Original Play time: 4.3\n",
      "[Pregress] Concat elements: 1\n",
      "[CHECK] Final play time: 4.34 s\n",
      "[END] Audio editing: Museum\n",
      "\n",
      "[START] Audio editing: Nature\n",
      "[CHECK] Original Play time: 4.0\n",
      "[Pregress] Concat elements: 1\n",
      "[CHECK] Final play time: 4.01 s\n",
      "[END] Audio editing: Nature\n",
      "\n",
      "[START] Audio editing: Opportunity\n",
      "[CHECK] Original Play time: 4.8\n",
      "[Pregress] Concat elements: 1\n",
      "[CHECK] Final play time: 4.85 s\n",
      "[END] Audio editing: Opportunity\n",
      "\n",
      "[START] Audio editing: Passport\n",
      "[CHECK] Original Play time: 3.8\n",
      "[Pregress] Concat elements: 1\n",
      "[CHECK] Final play time: 3.82 s\n",
      "[END] Audio editing: Passport\n",
      "\n",
      "[START] Audio editing: Relaxation\n",
      "[CHECK] Original Play time: 4.5\n",
      "[Pregress] Concat elements: 1\n",
      "[CHECK] Final play time: 4.58 s\n",
      "[END] Audio editing: Relaxation\n",
      "\n",
      "[START] Audio editing: Souvenir\n",
      "[CHECK] Original Play time: 4.0\n",
      "[Pregress] Concat elements: 1\n",
      "[CHECK] Final play time: 4.01 s\n",
      "[END] Audio editing: Souvenir\n",
      "\n",
      "[START] Audio editing: Tour\n",
      "[CHECK] Original Play time: 3.5\n",
      "[Pregress] Concat elements: 1\n",
      "[CHECK] Final play time: 3.5 s\n",
      "[END] Audio editing: Tour\n",
      "\n",
      "[START] Audio editing: Urban\n",
      "[CHECK] Original Play time: 4.2\n",
      "[Pregress] Concat elements: 1\n",
      "[CHECK] Final play time: 4.2 s\n",
      "[END] Audio editing: Urban\n",
      "\n",
      "[START] Audio editing: Voyage\n",
      "[CHECK] Original Play time: 4.2\n",
      "[Pregress] Concat elements: 1\n",
      "[CHECK] Final play time: 4.25 s\n",
      "[END] Audio editing: Voyage\n",
      "\n",
      "[START] Audio editing: Wander\n",
      "[CHECK] Original Play time: 3.8\n",
      "[Pregress] Concat elements: 1\n",
      "[CHECK] Final play time: 3.89 s\n",
      "[END] Audio editing: Wander\n",
      "\n",
      "[START] Audio editing: Zenith\n",
      "[CHECK] Original Play time: 3.9\n",
      "[Pregress] Concat elements: 1\n",
      "[CHECK] Final play time: 3.94 s\n",
      "[END] Audio editing: Zenith\n",
      "Moviepy - Building video /Users/kaylee/Desktop/ai_projects/kay/autoy/text2video/output/Travel_EngWordsTop50_0.mp4.\n",
      "MoviePy - Writing audio in Travel_EngWordsTop50_0TEMP_MPY_wvf_snd.mp3\n"
     ]
    },
    {
     "name": "stderr",
     "output_type": "stream",
     "text": [
      "                                                                      \r"
     ]
    },
    {
     "name": "stdout",
     "output_type": "stream",
     "text": [
      "MoviePy - Done.\n",
      "Moviepy - Writing video /Users/kaylee/Desktop/ai_projects/kay/autoy/text2video/output/Travel_EngWordsTop50_0.mp4\n",
      "\n"
     ]
    },
    {
     "name": "stderr",
     "output_type": "stream",
     "text": [
      "                                                             \r"
     ]
    },
    {
     "name": "stdout",
     "output_type": "stream",
     "text": [
      "Moviepy - Done !\n",
      "Moviepy - video ready /Users/kaylee/Desktop/ai_projects/kay/autoy/text2video/output/Travel_EngWordsTop50_0.mp4\n",
      "\n",
      "==============================================================\n",
      "[COMPLETE] ALL output video is created: /Users/kaylee/Desktop/ai_projects/kay/autoy/text2video/output/Travel_EngWordsTop50_0.mp4\n",
      "[Pregress] Frame: 10 / 10\n",
      "Moviepy - Building video /Users/kaylee/Desktop/ai_projects/kay/autoy/text2video/output/Travel_EngWordsTop50_1.mp4.\n",
      "MoviePy - Writing audio in Travel_EngWordsTop50_1TEMP_MPY_wvf_snd.mp3\n"
     ]
    },
    {
     "name": "stderr",
     "output_type": "stream",
     "text": [
      "                                                                      \r"
     ]
    },
    {
     "name": "stdout",
     "output_type": "stream",
     "text": [
      "MoviePy - Done.\n",
      "Moviepy - Writing video /Users/kaylee/Desktop/ai_projects/kay/autoy/text2video/output/Travel_EngWordsTop50_1.mp4\n",
      "\n"
     ]
    },
    {
     "name": "stderr",
     "output_type": "stream",
     "text": [
      "                                                             \r"
     ]
    },
    {
     "name": "stdout",
     "output_type": "stream",
     "text": [
      "Moviepy - Done !\n",
      "Moviepy - video ready /Users/kaylee/Desktop/ai_projects/kay/autoy/text2video/output/Travel_EngWordsTop50_1.mp4\n",
      "\n",
      "==============================================================\n",
      "[COMPLETE] ALL output video is created: /Users/kaylee/Desktop/ai_projects/kay/autoy/text2video/output/Travel_EngWordsTop50_1.mp4\n",
      "[Pregress] Frame: 10 / 10\n",
      "Moviepy - Building video /Users/kaylee/Desktop/ai_projects/kay/autoy/text2video/output/Travel_EngWordsTop50_2.mp4.\n",
      "MoviePy - Writing audio in Travel_EngWordsTop50_2TEMP_MPY_wvf_snd.mp3\n"
     ]
    },
    {
     "name": "stderr",
     "output_type": "stream",
     "text": [
      "                                                                      \r"
     ]
    },
    {
     "name": "stdout",
     "output_type": "stream",
     "text": [
      "MoviePy - Done.\n",
      "Moviepy - Writing video /Users/kaylee/Desktop/ai_projects/kay/autoy/text2video/output/Travel_EngWordsTop50_2.mp4\n",
      "\n"
     ]
    },
    {
     "name": "stderr",
     "output_type": "stream",
     "text": [
      "                                                             \r"
     ]
    },
    {
     "name": "stdout",
     "output_type": "stream",
     "text": [
      "Moviepy - Done !\n",
      "Moviepy - video ready /Users/kaylee/Desktop/ai_projects/kay/autoy/text2video/output/Travel_EngWordsTop50_2.mp4\n",
      "\n",
      "==============================================================\n",
      "[COMPLETE] ALL output video is created: /Users/kaylee/Desktop/ai_projects/kay/autoy/text2video/output/Travel_EngWordsTop50_2.mp4\n",
      "[Pregress] Frame: 10 / 10\n",
      "Moviepy - Building video /Users/kaylee/Desktop/ai_projects/kay/autoy/text2video/output/Travel_EngWordsTop50_3.mp4.\n",
      "MoviePy - Writing audio in Travel_EngWordsTop50_3TEMP_MPY_wvf_snd.mp3\n"
     ]
    },
    {
     "name": "stderr",
     "output_type": "stream",
     "text": [
      "                                                                     \r"
     ]
    },
    {
     "name": "stdout",
     "output_type": "stream",
     "text": [
      "MoviePy - Done.\n",
      "Moviepy - Writing video /Users/kaylee/Desktop/ai_projects/kay/autoy/text2video/output/Travel_EngWordsTop50_3.mp4\n",
      "\n"
     ]
    },
    {
     "name": "stderr",
     "output_type": "stream",
     "text": [
      "                                                             \r"
     ]
    },
    {
     "name": "stdout",
     "output_type": "stream",
     "text": [
      "Moviepy - Done !\n",
      "Moviepy - video ready /Users/kaylee/Desktop/ai_projects/kay/autoy/text2video/output/Travel_EngWordsTop50_3.mp4\n",
      "\n",
      "==============================================================\n",
      "[COMPLETE] ALL output video is created: /Users/kaylee/Desktop/ai_projects/kay/autoy/text2video/output/Travel_EngWordsTop50_3.mp4\n",
      "[Pregress] Frame: 10 / 10\n",
      "Moviepy - Building video /Users/kaylee/Desktop/ai_projects/kay/autoy/text2video/output/Travel_EngWordsTop50_4.mp4.\n",
      "MoviePy - Writing audio in Travel_EngWordsTop50_4TEMP_MPY_wvf_snd.mp3\n"
     ]
    },
    {
     "name": "stderr",
     "output_type": "stream",
     "text": [
      "                                                                    \r"
     ]
    },
    {
     "name": "stdout",
     "output_type": "stream",
     "text": [
      "MoviePy - Done.\n",
      "Moviepy - Writing video /Users/kaylee/Desktop/ai_projects/kay/autoy/text2video/output/Travel_EngWordsTop50_4.mp4\n",
      "\n"
     ]
    },
    {
     "name": "stderr",
     "output_type": "stream",
     "text": [
      "                                                             \r"
     ]
    },
    {
     "name": "stdout",
     "output_type": "stream",
     "text": [
      "Moviepy - Done !\n",
      "Moviepy - video ready /Users/kaylee/Desktop/ai_projects/kay/autoy/text2video/output/Travel_EngWordsTop50_4.mp4\n",
      "\n",
      "==============================================================\n",
      "[COMPLETE] ALL output video is created: /Users/kaylee/Desktop/ai_projects/kay/autoy/text2video/output/Travel_EngWordsTop50_4.mp4\n",
      "===== Enjoy your output :) (from.K) =====\n"
     ]
    }
   ],
   "source": [
    "composer.make_output()"
   ]
  },
  {
   "cell_type": "code",
   "execution_count": null,
   "metadata": {},
   "outputs": [],
   "source": []
  }
 ],
 "metadata": {
  "kernelspec": {
   "display_name": "autoy",
   "language": "python",
   "name": "python3"
  },
  "language_info": {
   "codemirror_mode": {
    "name": "ipython",
    "version": 3
   },
   "file_extension": ".py",
   "mimetype": "text/x-python",
   "name": "python",
   "nbconvert_exporter": "python",
   "pygments_lexer": "ipython3",
   "version": "3.10.12"
  },
  "orig_nbformat": 4
 },
 "nbformat": 4,
 "nbformat_minor": 2
}
